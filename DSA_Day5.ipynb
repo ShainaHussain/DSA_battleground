{
 "cells": [
  {
   "cell_type": "code",
   "execution_count": 1,
   "id": "c9a07ca5-ca27-48ba-b3c7-2c93c4433943",
   "metadata": {},
   "outputs": [
    {
     "name": "stdin",
     "output_type": "stream",
     "text": [
      "Enter a list of non-negative integers separated by spaces:  10 2\n"
     ]
    },
    {
     "name": "stdout",
     "output_type": "stream",
     "text": [
      "The largest number formed is: 210\n"
     ]
    }
   ],
   "source": [
    "user_input = input(\"Enter a list of non-negative integers separated by spaces: \")\n",
    "\n",
    "nums = list(map(int, user_input.split()))\n",
    "str_nums = [str(num) for num in nums]\n",
    "\n",
    "n = len(str_nums)\n",
    "for i in range(n):\n",
    "    for j in range(i + 1, n):\n",
    "        if str_nums[i] + str_nums[j] < str_nums[j] + str_nums[i]:\n",
    "            str_nums[i], str_nums[j] = str_nums[j], str_nums[i]\n",
    "\n",
    "\n",
    "largest_number = ''.join(str_nums)\n",
    "\n",
    "if largest_number[0] == '0':\n",
    "    largest_number = '0'\n",
    "\n",
    "print(\"The largest number formed is:\", largest_number)"
   ]
  },
  {
   "cell_type": "code",
   "execution_count": 2,
   "id": "ce770d6d-831d-4e97-b4f3-aaf913d51bcd",
   "metadata": {},
   "outputs": [
    {
     "name": "stdin",
     "output_type": "stream",
     "text": [
      "Enter a list of integers separated by spaces:  1 2 3 1\n"
     ]
    },
    {
     "name": "stdout",
     "output_type": "stream",
     "text": [
      "The index of a peak element is: 2\n"
     ]
    }
   ],
   "source": [
    "user_input = input(\"Enter a list of integers separated by spaces: \")\n",
    "nums = list(map(int, user_input.split()))\n",
    "\n",
    "left, right = 0, len(nums) - 1\n",
    "\n",
    "while left < right:\n",
    "    mid = (left + right) // 2\n",
    "    \n",
    "\n",
    "    if nums[mid] > nums[mid + 1]:\n",
    "        right = mid\n",
    "    else:\n",
    "        left = mid + 1\n",
    "\n",
    "print(\"The index of a peak element is:\", left)"
   ]
  },
  {
   "cell_type": "code",
   "execution_count": null,
   "id": "cbe213c1-11ce-4980-a472-b02f72c89186",
   "metadata": {},
   "outputs": [],
   "source": []
  }
 ],
 "metadata": {
  "kernelspec": {
   "display_name": "Python 3 (ipykernel)",
   "language": "python",
   "name": "python3"
  },
  "language_info": {
   "codemirror_mode": {
    "name": "ipython",
    "version": 3
   },
   "file_extension": ".py",
   "mimetype": "text/x-python",
   "name": "python",
   "nbconvert_exporter": "python",
   "pygments_lexer": "ipython3",
   "version": "3.11.7"
  }
 },
 "nbformat": 4,
 "nbformat_minor": 5
}
