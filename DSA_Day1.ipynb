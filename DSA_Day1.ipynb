{
 "cells": [
  {
   "cell_type": "code",
   "execution_count": 2,
   "id": "f9ac9b15-76e8-4282-9d4b-1ee95946f755",
   "metadata": {},
   "outputs": [
    {
     "name": "stdout",
     "output_type": "stream",
     "text": [
      "How many tuples do you want to enter?\n"
     ]
    },
    {
     "name": "stdin",
     "output_type": "stream",
     "text": [
      " 3\n"
     ]
    },
    {
     "name": "stdout",
     "output_type": "stream",
     "text": [
      "Enter tuple 1 (two numbers separated by a space):\n"
     ]
    },
    {
     "name": "stdin",
     "output_type": "stream",
     "text": [
      " 2 3\n"
     ]
    },
    {
     "name": "stdout",
     "output_type": "stream",
     "text": [
      "Enter tuple 2 (two numbers separated by a space):\n"
     ]
    },
    {
     "name": "stdin",
     "output_type": "stream",
     "text": [
      " 1 1\n"
     ]
    },
    {
     "name": "stdout",
     "output_type": "stream",
     "text": [
      "Enter tuple 3 (two numbers separated by a space):\n"
     ]
    },
    {
     "name": "stdin",
     "output_type": "stream",
     "text": [
      " 2 2\n"
     ]
    },
    {
     "name": "stdout",
     "output_type": "stream",
     "text": [
      "[(1, 1), (2, 2), (2, 3)]\n"
     ]
    }
   ],
   "source": [
    "def sort_tuples_by_sum(tuples_list):\n",
    "    sorted_list = []\n",
    "    sorted_list = sorted(tuples_list, key=lambda x: x[0] + x[1])\n",
    "\n",
    "    return sorted_list\n",
    "\n",
    "\n",
    "def get_user_input():\n",
    "    tuples_list = []  \n",
    "    print(\"How many tuples do you want to enter?\")\n",
    "    n = int(input())  \n",
    "    for i in range(n):\n",
    "        print(f\"Enter tuple {i+1} (two numbers separated by a space):\")\n",
    "        a, b = input().split() \n",
    "        a = int(a)  \n",
    "        b = int(b) \n",
    "        tuples_list.append((a, b)) \n",
    "\n",
    "    return tuples_list\n",
    "\n",
    "if __name__ == \"__main__\":\n",
    "\n",
    "    user_input = get_user_input()\n",
    "    sorted_output = sort_tuples_by_sum(user_input)\n",
    "    print(sorted_output)"
   ]
  },
  {
   "cell_type": "code",
   "execution_count": 6,
   "id": "2de66451-a5dd-479c-a85b-2bc9c7cc8af8",
   "metadata": {},
   "outputs": [
    {
     "name": "stdout",
     "output_type": "stream",
     "text": [
      "Enter the list of strings (separated by commas):\n"
     ]
    },
    {
     "name": "stdin",
     "output_type": "stream",
     "text": [
      " hello, this, is, kulfi\n"
     ]
    },
    {
     "name": "stdout",
     "output_type": "stream",
     "text": [
      "Enter the minimum length of strings (k):\n"
     ]
    },
    {
     "name": "stdin",
     "output_type": "stream",
     "text": [
      " 2\n"
     ]
    },
    {
     "name": "stdout",
     "output_type": "stream",
     "text": [
      "Enter the minimum number of vowels (m):\n"
     ]
    },
    {
     "name": "stdin",
     "output_type": "stream",
     "text": [
      " 2\n"
     ]
    },
    {
     "name": "stdout",
     "output_type": "stream",
     "text": [
      "['hello', 'kulfi']\n"
     ]
    }
   ],
   "source": [
    "def count_vowels(s: str) -> int:\n",
    "    vowels = \"aeiouAEIOU\"  \n",
    "    count = 0\n",
    "    for char in s:\n",
    "        if char in vowels:\n",
    "            count += 1\n",
    "    return count\n",
    "\n",
    "def filter_strings(lst: list[str], k: int, m: int) -> list[str]:\n",
    "    result = []\n",
    "\n",
    "    for s in lst:\n",
    "        if len(s) >= k and count_vowels(s) >= m:\n",
    "            result.append(s)  \n",
    "\n",
    "    return result\n",
    "\n",
    "def get_user_input():\n",
    "    print(\"Enter the list of strings (separated by commas):\")\n",
    "    input_strings = input().strip()  \n",
    "    lst = [s.strip() for s in input_strings.split(\",\")]  \n",
    "    \n",
    "    print(\"Enter the minimum length of strings (k):\")\n",
    "    k = int(input())\n",
    "    print(\"Enter the minimum number of vowels (m):\")\n",
    "    m = int(input())\n",
    "\n",
    "    return lst, k, m\n",
    "\n",
    "if __name__ == \"__main__\":\n",
    "    \n",
    "    lst, k, m = get_user_input()\n",
    "\n",
    "    filtered_strings = filter_strings(lst, k, m)\n",
    "\n",
    "    print(filtered_strings)"
   ]
  },
  {
   "cell_type": "code",
   "execution_count": null,
   "id": "d48722f1-ee0e-46c4-98bb-fd4320b15cce",
   "metadata": {},
   "outputs": [],
   "source": []
  }
 ],
 "metadata": {
  "kernelspec": {
   "display_name": "Python 3 (ipykernel)",
   "language": "python",
   "name": "python3"
  },
  "language_info": {
   "codemirror_mode": {
    "name": "ipython",
    "version": 3
   },
   "file_extension": ".py",
   "mimetype": "text/x-python",
   "name": "python",
   "nbconvert_exporter": "python",
   "pygments_lexer": "ipython3",
   "version": "3.11.7"
  }
 },
 "nbformat": 4,
 "nbformat_minor": 5
}
