{
 "cells": [
  {
   "cell_type": "code",
   "execution_count": 2,
   "id": "3e3dd0f2-7261-443c-a0f9-9ab772186b88",
   "metadata": {},
   "outputs": [
    {
     "name": "stdin",
     "output_type": "stream",
     "text": [
      "Enter a string:  ccaabbb\n"
     ]
    },
    {
     "name": "stdout",
     "output_type": "stream",
     "text": [
      "Length of the longest substring with at most two distinct characters: 5\n"
     ]
    }
   ],
   "source": [
    "s = input(\"Enter a string: \")\n",
    "\n",
    "max_length = 0  \n",
    "left = 0  \n",
    "char_count = {}  \n",
    "\n",
    "for right in range(len(s)):\n",
    "\n",
    "    char_count[s[right]] = char_count.get(s[right], 0) + 1\n",
    "\n",
    "    while len(char_count) > 2:\n",
    "        char_count[s[left]] -= 1  \n",
    "        if char_count[s[left]] == 0:\n",
    "            del char_count[s[left]] \n",
    "        left += 1  \n",
    "\n",
    "    current_length = right - left + 1\n",
    "    if current_length > max_length:\n",
    "        max_length = current_length\n",
    "\n",
    "\n",
    "print(\"Length of the longest substring with at most two distinct characters:\", max_length)"
   ]
  },
  {
   "cell_type": "code",
   "execution_count": 3,
   "id": "9118f3bf-9dcc-4284-8fba-45fac4c6e214",
   "metadata": {},
   "outputs": [
    {
     "name": "stdin",
     "output_type": "stream",
     "text": [
      "Enter a string:  cbbd\n"
     ]
    },
    {
     "name": "stdout",
     "output_type": "stream",
     "text": [
      "Length of the longest palindromic subsequence: 2\n"
     ]
    }
   ],
   "source": [
    "s = input(\"Enter a string: \")\n",
    "n = len(s)\n",
    "dp = [[0] * n for _ in range(n)]\n",
    "\n",
    "for i in range(n):\n",
    "    dp[i][i] = 1\n",
    "\n",
    "\n",
    "for length in range(2, n + 1): \n",
    "    for i in range(n - length + 1):  \n",
    "        j = i + length - 1 \n",
    "        if s[i] == s[j]:\n",
    "            dp[i][j] = 2 + dp[i + 1][j - 1]\n",
    "        else:\n",
    "            dp[i][j] = max(dp[i + 1][j], dp[i][j - 1])\n",
    "\n",
    "result = dp[0][n - 1]\n",
    "\n",
    "print(\"Length of the longest palindromic subsequence:\", result)"
   ]
  },
  {
   "cell_type": "code",
   "execution_count": null,
   "id": "f3951362-5e5c-4b55-bd4c-22ece154737f",
   "metadata": {},
   "outputs": [],
   "source": []
  }
 ],
 "metadata": {
  "kernelspec": {
   "display_name": "Python 3 (ipykernel)",
   "language": "python",
   "name": "python3"
  },
  "language_info": {
   "codemirror_mode": {
    "name": "ipython",
    "version": 3
   },
   "file_extension": ".py",
   "mimetype": "text/x-python",
   "name": "python",
   "nbconvert_exporter": "python",
   "pygments_lexer": "ipython3",
   "version": "3.11.7"
  }
 },
 "nbformat": 4,
 "nbformat_minor": 5
}
