{
 "cells": [
  {
   "cell_type": "code",
   "execution_count": 3,
   "id": "692a49fa-98d7-4b54-9d7c-ac587107d562",
   "metadata": {},
   "outputs": [
    {
     "name": "stdin",
     "output_type": "stream",
     "text": [
      "Enter a sentence:  hello this is shaina\n"
     ]
    },
    {
     "name": "stdout",
     "output_type": "stream",
     "text": [
      "The length of the last word is: 6\n"
     ]
    }
   ],
   "source": [
    "def length_of_last_word(s):\n",
    "    trimmed_s = s.strip()\n",
    "    \n",
    "    words = trimmed_s.split()\n",
    "    if not words:\n",
    "        return 0\n",
    "    \n",
    "    last_word = words[-1]\n",
    "    return len(last_word)\n",
    "\n",
    "user_input = input(\"Enter a sentence: \")\n",
    "\n",
    "result = length_of_last_word(user_input)\n",
    "print(f\"The length of the last word is: {result}\")"
   ]
  },
  {
   "cell_type": "code",
   "execution_count": 4,
   "id": "cd61cc56-0388-4716-a49e-4c4e3da327ab",
   "metadata": {},
   "outputs": [
    {
     "name": "stdin",
     "output_type": "stream",
     "text": [
      "Enter sorted array (comma-separated):  3,3,4,5,4,6,5\n",
      "Enter target:  4\n"
     ]
    },
    {
     "name": "stdout",
     "output_type": "stream",
     "text": [
      "Starting and ending positions: [2, 4]\n"
     ]
    }
   ],
   "source": [
    "def searchRange(nums, target):\n",
    "    start = -1\n",
    "    for i in range(len(nums)):\n",
    "        if nums[i] == target:\n",
    "            start = i\n",
    "            break  \n",
    "\n",
    "    end = -1\n",
    "    for i in range(len(nums) - 1, -1, -1): \n",
    "        if nums[i] == target:\n",
    "            end = i\n",
    "            break  \n",
    "\n",
    "    return [start, end]\n",
    "\n",
    "nums = list(map(int, input(\"Enter sorted array (comma-separated): \").split(',')))\n",
    "target = int(input(\"Enter target: \"))\n",
    "\n",
    "print(\"Starting and ending positions:\", searchRange(nums, target))"
   ]
  },
  {
   "cell_type": "code",
   "execution_count": null,
   "id": "87a06e5e-fb2b-4037-91a2-eb2374a11675",
   "metadata": {},
   "outputs": [],
   "source": []
  }
 ],
 "metadata": {
  "kernelspec": {
   "display_name": "Python 3 (ipykernel)",
   "language": "python",
   "name": "python3"
  },
  "language_info": {
   "codemirror_mode": {
    "name": "ipython",
    "version": 3
   },
   "file_extension": ".py",
   "mimetype": "text/x-python",
   "name": "python",
   "nbconvert_exporter": "python",
   "pygments_lexer": "ipython3",
   "version": "3.11.7"
  }
 },
 "nbformat": 4,
 "nbformat_minor": 5
}
