{
 "cells": [
  {
   "cell_type": "code",
   "execution_count": 1,
   "id": "6b8c69ee-d402-457b-b075-d182fc615b52",
   "metadata": {},
   "outputs": [
    {
     "name": "stdin",
     "output_type": "stream",
     "text": [
      "Enter the array of numbers separated by spaces:  2 2 3 4\n"
     ]
    },
    {
     "name": "stdout",
     "output_type": "stream",
     "text": [
      "Number of valid triplets that can form a triangle: 3\n"
     ]
    }
   ],
   "source": [
    "nums = list(map(int, input(\"Enter the array of numbers separated by spaces: \").split()))\n",
    "nums.sort()\n",
    "\n",
    "n = len(nums)\n",
    "count = 0\n",
    "\n",
    "for k in range(n - 1, 1, -1):\n",
    "    i = 0\n",
    "    j = k - 1\n",
    "    while i < j:\n",
    "        if nums[i] + nums[j] > nums[k]:\n",
    "            count += j - i\n",
    "            j -= 1\n",
    "        else:\n",
    "            i += 1\n",
    "\n",
    "print(\"Number of valid triplets that can form a triangle:\", count)"
   ]
  },
  {
   "cell_type": "code",
   "execution_count": 1,
   "id": "06f3389c-560b-448d-8c8e-97be4f383522",
   "metadata": {},
   "outputs": [
    {
     "name": "stdin",
     "output_type": "stream",
     "text": [
      "Enter the array of numbers separated by spaces:  3 6 9 1\n"
     ]
    },
    {
     "name": "stdout",
     "output_type": "stream",
     "text": [
      "Maximum gap: 3\n"
     ]
    }
   ],
   "source": [
    "nums = list(map(int, input(\"Enter the array of numbers separated by spaces: \").split()))\n",
    "\n",
    "n = len(nums)\n",
    "if n < 2:\n",
    "    print(\"Maximum gap: 0\")\n",
    "    exit()\n",
    "\n",
    "min_num = min(nums)\n",
    "max_num = max(nums)\n",
    "\n",
    "if min_num == max_num:\n",
    "    print(\"Maximum gap: 0\")\n",
    "    exit()\n",
    "\n",
    "bucket_size = max(1, (max_num - min_num) // max(1, (n - 1)))\n",
    "\n",
    "num_buckets = (max_num - min_num) // bucket_size + 1\n",
    "\n",
    "buckets = [[float('inf'), float('-inf')] for _ in range(num_buckets)]\n",
    "\n",
    "for num in nums:\n",
    "    bucket_index = (num - min_num) // bucket_size\n",
    "    buckets[bucket_index][0] = min(buckets[bucket_index][0], num)\n",
    "    buckets[bucket_index][1] = max(buckets[bucket_index][1], num)\n",
    "\n",
    "max_gap = 0\n",
    "previous_max = min_num\n",
    "\n",
    "for bucket in buckets:\n",
    "    if bucket[0] == float('inf'):\n",
    "        continue \n",
    "    max_gap = max(max_gap, bucket[0] - previous_max)\n",
    "    previous_max = bucket[1]\n",
    "\n",
    "print(\"Maximum gap:\", max_gap)"
   ]
  },
  {
   "cell_type": "code",
   "execution_count": null,
   "id": "5190e04a-28a7-4d48-8a85-73f655be72cd",
   "metadata": {},
   "outputs": [],
   "source": []
  }
 ],
 "metadata": {
  "kernelspec": {
   "display_name": "Python 3 (ipykernel)",
   "language": "python",
   "name": "python3"
  },
  "language_info": {
   "codemirror_mode": {
    "name": "ipython",
    "version": 3
   },
   "file_extension": ".py",
   "mimetype": "text/x-python",
   "name": "python",
   "nbconvert_exporter": "python",
   "pygments_lexer": "ipython3",
   "version": "3.11.7"
  }
 },
 "nbformat": 4,
 "nbformat_minor": 5
}
