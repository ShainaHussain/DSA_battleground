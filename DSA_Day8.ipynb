{
 "cells": [
  {
   "cell_type": "code",
   "execution_count": 3,
   "id": "6167e074-f07c-4f72-9e33-ee714c1b8488",
   "metadata": {},
   "outputs": [
    {
     "name": "stdin",
     "output_type": "stream",
     "text": [
      "Enter the array elements separated by spaces:  2 3 1 1 4\n"
     ]
    },
    {
     "name": "stdout",
     "output_type": "stream",
     "text": [
      "True.\n"
     ]
    }
   ],
   "source": [
    "def canJump(nums):\n",
    "    maxReach = 0\n",
    "    for i in range(len(nums)):\n",
    "        if i > maxReach:\n",
    "            return False\n",
    "        maxReach = max(maxReach, i + nums[i])\n",
    "        if maxReach >= len(nums) - 1:\n",
    "            return True\n",
    "    return True\n",
    "\n",
    "# Taking user input\n",
    "def main():\n",
    "    user_input = input(\"Enter the array elements separated by spaces: \")\n",
    "    \n",
    "    nums = list(map(int, user_input.split()))\n",
    "    result = canJump(nums)\n",
    "    if result:\n",
    "        print(\"True.\")\n",
    "    else:\n",
    "        print(\"False.\")\n",
    "\n",
    "if __name__ == \"__main__\":\n",
    "    main()"
   ]
  },
  {
   "cell_type": "code",
   "execution_count": 4,
   "id": "7f5d5cb8-edd6-4276-9aa9-7d4abdd58fe7",
   "metadata": {},
   "outputs": [
    {
     "name": "stdin",
     "output_type": "stream",
     "text": [
      "Enter the coin denominations separated by spaces:  1 2 5\n",
      "Enter the amount:  11\n"
     ]
    },
    {
     "name": "stdout",
     "output_type": "stream",
     "text": [
      "The minimum number of coins needed is: 3\n"
     ]
    }
   ],
   "source": [
    "def coinChange(coins, amount):\n",
    "    dp = [float('inf')] * (amount + 1)\n",
    "    dp[0] = 0\n",
    "\n",
    "    for i in range(1, amount + 1):\n",
    "        for coin in coins:\n",
    "            if coin <= i:\n",
    "                dp[i] = min(dp[i], dp[i - coin] + 1)\n",
    "\n",
    "    return dp[amount] if dp[amount] != float('inf') else -1\n",
    "\n",
    "def main():\n",
    "    try:\n",
    "        coins_input = input(\"Enter the coin denominations separated by spaces: \")\n",
    "        coins = list(map(int, coins_input.split()))\n",
    "        if any(coin <= 0 for coin in coins):\n",
    "            print(\"Error: Coin denominations must be positive integers.\")\n",
    "            return\n",
    "\n",
    "        amount = int(input(\"Enter the amount: \"))\n",
    "        if amount < 0:\n",
    "            print(\"Error: Amount must be a non-negative integer.\")\n",
    "            return\n",
    "\n",
    "        result = coinChange(coins, amount)\n",
    "\n",
    "        if result != -1:\n",
    "            print(f\"The minimum number of coins needed is: {result}\")\n",
    "        else:\n",
    "            print(\"It is not possible to make up the amount with the given coins.\")\n",
    "    except ValueError:\n",
    "        print(\"Error: Invalid input. Please enter integers only.\")\n",
    "\n",
    "if __name__ == \"__main__\":\n",
    "    main()"
   ]
  },
  {
   "cell_type": "code",
   "execution_count": null,
   "id": "ce89d7db-82e8-445d-b8b9-69b94f6d370f",
   "metadata": {},
   "outputs": [],
   "source": []
  }
 ],
 "metadata": {
  "kernelspec": {
   "display_name": "Python 3 (ipykernel)",
   "language": "python",
   "name": "python3"
  },
  "language_info": {
   "codemirror_mode": {
    "name": "ipython",
    "version": 3
   },
   "file_extension": ".py",
   "mimetype": "text/x-python",
   "name": "python",
   "nbconvert_exporter": "python",
   "pygments_lexer": "ipython3",
   "version": "3.11.7"
  }
 },
 "nbformat": 4,
 "nbformat_minor": 5
}
