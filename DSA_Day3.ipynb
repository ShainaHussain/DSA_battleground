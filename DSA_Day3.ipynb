{
 "cells": [
  {
   "cell_type": "code",
   "execution_count": 4,
   "id": "e893b7ab-92a6-4811-828f-24ed2412ad7c",
   "metadata": {},
   "outputs": [
    {
     "name": "stdin",
     "output_type": "stream",
     "text": [
      "Enter numbers separated by spaces:  1 2 3 4\n"
     ]
    },
    {
     "name": "stdout",
     "output_type": "stream",
     "text": [
      "Output: [24, 12, 8, 6]\n"
     ]
    }
   ],
   "source": [
    "nums = list(map(int, input(\"Enter numbers separated by spaces: \").split()))\n",
    "\n",
    "result = [1] * len(nums)\n",
    "\n",
    "left_product = 1\n",
    "for i in range(len(nums)):\n",
    "    result[i] = left_product\n",
    "    left_product *= nums[i]\n",
    "\n",
    "right_product = 1\n",
    "for i in range(len(nums) - 1, -1, -1):\n",
    "    result[i] *= right_product\n",
    "    right_product *= nums[i]\n",
    "\n",
    "print(\"Output:\", result)"
   ]
  },
  {
   "cell_type": "code",
   "execution_count": 5,
   "id": "5566b2d2-7697-476e-b245-11312d80178b",
   "metadata": {},
   "outputs": [
    {
     "name": "stdin",
     "output_type": "stream",
     "text": [
      "Enter a string:  kewwkeb\n"
     ]
    },
    {
     "name": "stdout",
     "output_type": "stream",
     "text": [
      "Length of the longest substring without repeating characters: 4\n"
     ]
    }
   ],
   "source": [
    "s = input(\"Enter a string: \")\n",
    "\n",
    "char_set = set()  \n",
    "left = 0          \n",
    "max_length = 0    \n",
    "\n",
    "for right in range(len(s)):\n",
    "\n",
    "    while s[right] in char_set:\n",
    "        char_set.remove(s[left])\n",
    "        left += 1\n",
    "   \n",
    "    char_set.add(s[right])\n",
    "    max_length = max(max_length, right - left + 1)\n",
    "\n",
    "print(\"Length of the longest substring without repeating characters:\", max_length)"
   ]
  },
  {
   "cell_type": "code",
   "execution_count": null,
   "id": "ec13e0be-b049-4cc1-bab1-f18474f9cc1c",
   "metadata": {},
   "outputs": [],
   "source": []
  }
 ],
 "metadata": {
  "kernelspec": {
   "display_name": "Python 3 (ipykernel)",
   "language": "python",
   "name": "python3"
  },
  "language_info": {
   "codemirror_mode": {
    "name": "ipython",
    "version": 3
   },
   "file_extension": ".py",
   "mimetype": "text/x-python",
   "name": "python",
   "nbconvert_exporter": "python",
   "pygments_lexer": "ipython3",
   "version": "3.11.7"
  }
 },
 "nbformat": 4,
 "nbformat_minor": 5
}
