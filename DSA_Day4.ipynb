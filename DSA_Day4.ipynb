{
 "cells": [
  {
   "cell_type": "code",
   "execution_count": 2,
   "id": "a81628a7-9ba8-4d2a-8418-191e12e5b72c",
   "metadata": {},
   "outputs": [
    {
     "name": "stdin",
     "output_type": "stream",
     "text": [
      "Enter the target sum:  7\n",
      "Enter the array elements separated by spaces:  2 3 1 2 4 3\n"
     ]
    },
    {
     "name": "stdout",
     "output_type": "stream",
     "text": [
      "Output: 2\n"
     ]
    }
   ],
   "source": [
    "target = int(input(\"Enter the target sum: \"))\n",
    "nums = list(map(int, input(\"Enter the array elements separated by spaces: \").split()))\n",
    "\n",
    "min_length = float('inf') \n",
    "current_sum = 0  \n",
    "left = 0  \n",
    "\n",
    "\n",
    "for right in range(len(nums)):\n",
    "    current_sum += nums[right]  \n",
    "\n",
    "    while current_sum >= target:\n",
    "        min_length = min(min_length, right - left + 1)  \n",
    "        current_sum -= nums[left]  \n",
    "        left += 1  \n",
    "\n",
    "\n",
    "if min_length == float('inf'):\n",
    "    min_length = 0\n",
    "\n",
    "\n",
    "print(\"Output:\", min_length)"
   ]
  },
  {
   "cell_type": "code",
   "execution_count": null,
   "id": "d3298397-ea30-4f57-ab0a-0987e71e56e7",
   "metadata": {},
   "outputs": [],
   "source": [
    "\n",
    "nums = list(map(int, input(\"Enter the scores separated by spaces: \").split()))\n",
    "k = int(input(\"Enter the value of k: \"))\n",
    "\n",
    "\n",
    "nums.sort()\n",
    "\n",
    "\n",
    "min_diff = float('inf')\n",
    "\n",
    "\n",
    "for i in range(len(nums) - k + 1):\n",
    "    current_diff = nums[i + k - 1] - nums[i]\n",
    "   \n",
    "    if current_diff < min_diff:\n",
    "        min_diff = current_diff\n",
    "\n",
    "if min_diff == float('inf'):\n",
    "    min_diff = 0\n",
    "\n",
    "print(\"Output:\", min_diff)"
   ]
  },
  {
   "cell_type": "code",
   "execution_count": null,
   "id": "c8a55445-fd6d-4ea3-8534-9f526937762b",
   "metadata": {},
   "outputs": [],
   "source": []
  }
 ],
 "metadata": {
  "kernelspec": {
   "display_name": "Python 3 (ipykernel)",
   "language": "python",
   "name": "python3"
  },
  "language_info": {
   "codemirror_mode": {
    "name": "ipython",
    "version": 3
   },
   "file_extension": ".py",
   "mimetype": "text/x-python",
   "name": "python",
   "nbconvert_exporter": "python",
   "pygments_lexer": "ipython3",
   "version": "3.11.7"
  }
 },
 "nbformat": 4,
 "nbformat_minor": 5
}
